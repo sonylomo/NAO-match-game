{
 "cells": [
  {
   "cell_type": "code",
   "execution_count": 1,
   "metadata": {},
   "outputs": [
    {
     "name": "stdout",
     "output_type": "stream",
     "text": [
      "Memory Match Game\n",
      "       \n",
      "       \n",
      "       \n",
      "       \n",
      "Invalid input. Please enter a valid row and column number.\n",
      "Invalid input. Please enter a valid row and column number.\n",
      "       \n",
      "       \n",
      "99      \n",
      "       \n",
      "Not a match. Try again.\n",
      "Invalid input. Please enter a valid row and column number.\n",
      "Invalid input. Please enter a valid row and column number.\n",
      "Invalid input. Please enter a valid row and column number.\n",
      "Invalid input. Please enter a valid row and column number.\n",
      "Invalid input. Please enter a valid row and column number.\n",
      "Invalid input. Please enter a valid row and column number.\n",
      "Invalid input. Please enter a valid row and column number.\n",
      "Invalid input. Please enter a valid row and column number.\n",
      "Invalid input. Please enter a valid row and column number.\n"
     ]
    },
    {
     "ename": "KeyboardInterrupt",
     "evalue": "Interrupted by user",
     "output_type": "error",
     "traceback": [
      "\u001b[1;31m---------------------------------------------------------------------------\u001b[0m",
      "\u001b[1;31mKeyboardInterrupt\u001b[0m                         Traceback (most recent call last)",
      "Cell \u001b[1;32mIn[1], line 61\u001b[0m\n\u001b[0;32m     57\u001b[0m         tries \u001b[39m+\u001b[39m\u001b[39m=\u001b[39m \u001b[39m1\u001b[39m\n\u001b[0;32m     59\u001b[0m     \u001b[39mprint\u001b[39m(\u001b[39m\"\u001b[39m\u001b[39mCongratulations! You completed the game in \u001b[39m\u001b[39m{}\u001b[39;00m\u001b[39m tries.\u001b[39m\u001b[39m\"\u001b[39m\u001b[39m.\u001b[39mformat(tries))\n\u001b[1;32m---> 61\u001b[0m play_game()\n",
      "Cell \u001b[1;32mIn[1], line 33\u001b[0m, in \u001b[0;36mplay_game\u001b[1;34m()\u001b[0m\n\u001b[0;32m     31\u001b[0m \u001b[39mwhile\u001b[39;00m first_card \u001b[39mis\u001b[39;00m \u001b[39mNone\u001b[39;00m \u001b[39mor\u001b[39;00m second_card \u001b[39mis\u001b[39;00m \u001b[39mNone\u001b[39;00m:\n\u001b[0;32m     32\u001b[0m     \u001b[39mtry\u001b[39;00m:\n\u001b[1;32m---> 33\u001b[0m         row \u001b[39m=\u001b[39m \u001b[39mint\u001b[39m(\u001b[39minput\u001b[39;49m(\u001b[39m\"\u001b[39;49m\u001b[39mEnter the row number (0-\u001b[39;49m\u001b[39m{}\u001b[39;49;00m\u001b[39m): \u001b[39;49m\u001b[39m\"\u001b[39;49m\u001b[39m.\u001b[39;49mformat(board_size \u001b[39m-\u001b[39;49m \u001b[39m1\u001b[39;49m)))\n\u001b[0;32m     34\u001b[0m         col \u001b[39m=\u001b[39m \u001b[39mint\u001b[39m(\u001b[39minput\u001b[39m(\u001b[39m\"\u001b[39m\u001b[39mEnter the column number (0-\u001b[39m\u001b[39m{}\u001b[39;00m\u001b[39m): \u001b[39m\u001b[39m\"\u001b[39m\u001b[39m.\u001b[39mformat(board_size \u001b[39m-\u001b[39m \u001b[39m1\u001b[39m)))\n\u001b[0;32m     35\u001b[0m         \u001b[39mif\u001b[39;00m board[row][col] \u001b[39mis\u001b[39;00m \u001b[39mnot\u001b[39;00m \u001b[39mNone\u001b[39;00m:\n",
      "File \u001b[1;32m~\\AppData\\Roaming\\Python\\Python310\\site-packages\\ipykernel\\kernelbase.py:1175\u001b[0m, in \u001b[0;36mKernel.raw_input\u001b[1;34m(self, prompt)\u001b[0m\n\u001b[0;32m   1171\u001b[0m \u001b[39mif\u001b[39;00m \u001b[39mnot\u001b[39;00m \u001b[39mself\u001b[39m\u001b[39m.\u001b[39m_allow_stdin:\n\u001b[0;32m   1172\u001b[0m     \u001b[39mraise\u001b[39;00m StdinNotImplementedError(\n\u001b[0;32m   1173\u001b[0m         \u001b[39m\"\u001b[39m\u001b[39mraw_input was called, but this frontend does not support input requests.\u001b[39m\u001b[39m\"\u001b[39m\n\u001b[0;32m   1174\u001b[0m     )\n\u001b[1;32m-> 1175\u001b[0m \u001b[39mreturn\u001b[39;00m \u001b[39mself\u001b[39;49m\u001b[39m.\u001b[39;49m_input_request(\n\u001b[0;32m   1176\u001b[0m     \u001b[39mstr\u001b[39;49m(prompt),\n\u001b[0;32m   1177\u001b[0m     \u001b[39mself\u001b[39;49m\u001b[39m.\u001b[39;49m_parent_ident[\u001b[39m\"\u001b[39;49m\u001b[39mshell\u001b[39;49m\u001b[39m\"\u001b[39;49m],\n\u001b[0;32m   1178\u001b[0m     \u001b[39mself\u001b[39;49m\u001b[39m.\u001b[39;49mget_parent(\u001b[39m\"\u001b[39;49m\u001b[39mshell\u001b[39;49m\u001b[39m\"\u001b[39;49m),\n\u001b[0;32m   1179\u001b[0m     password\u001b[39m=\u001b[39;49m\u001b[39mFalse\u001b[39;49;00m,\n\u001b[0;32m   1180\u001b[0m )\n",
      "File \u001b[1;32m~\\AppData\\Roaming\\Python\\Python310\\site-packages\\ipykernel\\kernelbase.py:1217\u001b[0m, in \u001b[0;36mKernel._input_request\u001b[1;34m(self, prompt, ident, parent, password)\u001b[0m\n\u001b[0;32m   1214\u001b[0m             \u001b[39mbreak\u001b[39;00m\n\u001b[0;32m   1215\u001b[0m \u001b[39mexcept\u001b[39;00m \u001b[39mKeyboardInterrupt\u001b[39;00m:\n\u001b[0;32m   1216\u001b[0m     \u001b[39m# re-raise KeyboardInterrupt, to truncate traceback\u001b[39;00m\n\u001b[1;32m-> 1217\u001b[0m     \u001b[39mraise\u001b[39;00m \u001b[39mKeyboardInterrupt\u001b[39;00m(\u001b[39m\"\u001b[39m\u001b[39mInterrupted by user\u001b[39m\u001b[39m\"\u001b[39m) \u001b[39mfrom\u001b[39;00m \u001b[39mNone\u001b[39m\n\u001b[0;32m   1218\u001b[0m \u001b[39mexcept\u001b[39;00m \u001b[39mException\u001b[39;00m:\n\u001b[0;32m   1219\u001b[0m     \u001b[39mself\u001b[39m\u001b[39m.\u001b[39mlog\u001b[39m.\u001b[39mwarning(\u001b[39m\"\u001b[39m\u001b[39mInvalid Message:\u001b[39m\u001b[39m\"\u001b[39m, exc_info\u001b[39m=\u001b[39m\u001b[39mTrue\u001b[39;00m)\n",
      "\u001b[1;31mKeyboardInterrupt\u001b[0m: Interrupted by user"
     ]
    }
   ],
   "source": [
    "import random\n",
    "\n",
    "def create_cards(num_pairs):\n",
    "    cards = []\n",
    "    for _ in range(num_pairs):\n",
    "        card = random.randint(1, 100)  # You can customize the cards based on your preference\n",
    "        cards.append(card)\n",
    "        cards.append(card)\n",
    "    random.shuffle(cards)\n",
    "    return cards\n",
    "\n",
    "def print_board(board):\n",
    "    for row in board:\n",
    "        print(' '.join(str(card) if card is not None else ' ' for card in row))\n",
    "\n",
    "def play_game():\n",
    "    num_pairs = 6  # Adjust the number of card pairs based on the desired difficulty\n",
    "    cards = create_cards(num_pairs)\n",
    "\n",
    "    board_size = 4  # Adjust the board size based on the number of card pairs\n",
    "    board = [[None] * board_size for _ in range(board_size)]\n",
    "    print(\"Memory Match Game\")\n",
    "    print_board(board)\n",
    "\n",
    "    matched_pairs = 0\n",
    "    tries = 0\n",
    "\n",
    "    while matched_pairs < num_pairs:\n",
    "        first_card = None\n",
    "        second_card = None\n",
    "        while first_card is None or second_card is None:\n",
    "            try:\n",
    "                row = int(input(\"Enter the row number (0-{}): \".format(board_size - 1)))\n",
    "                col = int(input(\"Enter the column number (0-{}): \".format(board_size - 1)))\n",
    "                if board[row][col] is not None:\n",
    "                    print(\"Card already flipped. Choose another position.\")\n",
    "                    continue\n",
    "                if first_card is None:\n",
    "                    first_card = (row, col)\n",
    "                    board[row][col] = cards[row * board_size + col]\n",
    "                else:\n",
    "                    second_card = (row, col)\n",
    "                    board[row][col] = cards[row * board_size + col]\n",
    "            except (ValueError, IndexError):\n",
    "                print(\"Invalid input. Please enter a valid row and column number.\")\n",
    "\n",
    "        print_board(board)\n",
    "\n",
    "        if board[first_card[0]][first_card[1]] == board[second_card[0]][second_card[1]]:\n",
    "            print(\"Match found!\")\n",
    "            matched_pairs += 1\n",
    "        else:\n",
    "            print(\"Not a match. Try again.\")\n",
    "            board[first_card[0]][first_card[1]] = None\n",
    "            board[second_card[0]][second_card[1]] = None\n",
    "\n",
    "        tries += 1\n",
    "\n",
    "    print(\"Congratulations! You completed the game in {} tries.\".format(tries))\n",
    "\n",
    "play_game()\n"
   ]
  }
 ],
 "metadata": {
  "kernelspec": {
   "display_name": "Python 3",
   "language": "python",
   "name": "python3"
  },
  "language_info": {
   "codemirror_mode": {
    "name": "ipython",
    "version": 3
   },
   "file_extension": ".py",
   "mimetype": "text/x-python",
   "name": "python",
   "nbconvert_exporter": "python",
   "pygments_lexer": "ipython3",
   "version": "3.10.2"
  },
  "orig_nbformat": 4
 },
 "nbformat": 4,
 "nbformat_minor": 2
}
